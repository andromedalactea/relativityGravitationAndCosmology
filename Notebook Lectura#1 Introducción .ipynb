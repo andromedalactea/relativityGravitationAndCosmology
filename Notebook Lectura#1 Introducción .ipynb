{
  "nbformat": 4,
  "nbformat_minor": 0,
  "metadata": {
    "colab": {
      "provenance": [],
      "authorship_tag": "ABX9TyOimo17WLylFQ2uCuiF56Ku",
      "include_colab_link": true
    },
    "kernelspec": {
      "name": "python3",
      "display_name": "Python 3"
    },
    "language_info": {
      "name": "python"
    }
  },
  "cells": [
    {
      "cell_type": "markdown",
      "metadata": {
        "id": "view-in-github",
        "colab_type": "text"
      },
      "source": [
        "<a href=\"https://colab.research.google.com/github/andromedalactea/relativity_gravitation_and_cosmology/blob/main/Notebook%20Lectura%231%20Introducci%C3%B3n%20.ipynb\" target=\"_parent\"><img src=\"https://colab.research.google.com/assets/colab-badge.svg\" alt=\"Open In Colab\"/></a>"
      ]
    },
    {
      "cell_type": "markdown",
      "source": [
        "Notebook #1\n",
        "\n"
      ],
      "metadata": {
        "id": "RGB8kkzBZ-On"
      }
    },
    {
      "cell_type": "code",
      "execution_count": null,
      "metadata": {
        "id": "fORMmvr7ZpCR"
      },
      "outputs": [],
      "source": []
    }
  ]
}