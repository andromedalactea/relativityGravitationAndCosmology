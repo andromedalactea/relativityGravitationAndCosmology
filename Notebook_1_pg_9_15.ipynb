{
  "nbformat": 4,
  "nbformat_minor": 0,
  "metadata": {
    "colab": {
      "provenance": []
    },
    "kernelspec": {
      "name": "python3",
      "display_name": "Python 3"
    },
    "language_info": {
      "name": "python"
    }
  },
  "cells": [
    {
      "cell_type": "markdown",
      "source": [
        "Notebook #1 Introducción (pp. 9-10) y Cap 1: Introducción, 1.1 Conceptos básicos de relatividad especial (pp. 11-15)\n",
        "\n"
      ],
      "metadata": {
        "id": "RGB8kkzBZ-On"
      }
    },
    {
      "cell_type": "code",
      "execution_count": null,
      "metadata": {
        "id": "fORMmvr7ZpCR"
      },
      "outputs": [],
      "source": []
    }
  ]
}